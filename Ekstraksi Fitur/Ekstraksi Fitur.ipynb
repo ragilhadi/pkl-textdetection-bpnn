{
 "cells": [
  {
   "cell_type": "markdown",
   "id": "rising-makeup",
   "metadata": {},
   "source": [
    "# Fiture Extraction"
   ]
  },
  {
   "cell_type": "markdown",
   "id": "above-break",
   "metadata": {},
   "source": [
    "Step for feture extraction\n",
    "1. Grayscale Convertion\n",
    "2. Thresholding\n",
    "3. Edge Detection\n",
    "4. Dilation\n",
    "5. Filling"
   ]
  },
  {
   "cell_type": "code",
   "execution_count": 1,
   "id": "fixed-insurance",
   "metadata": {},
   "outputs": [],
   "source": [
    "import cv2 as cv\n",
    "import numpy as np"
   ]
  },
  {
   "cell_type": "markdown",
   "id": "tamil-universal",
   "metadata": {},
   "source": [
    "### Open an Image"
   ]
  },
  {
   "cell_type": "code",
   "execution_count": 2,
   "id": "thousand-communist",
   "metadata": {},
   "outputs": [],
   "source": [
    "image = cv.imread('toilet.jpg')\n",
    "cv.imshow('Himatekkom', image)\n",
    "cv.waitKey(0)\n",
    "cv.destroyAllWindows()"
   ]
  },
  {
   "cell_type": "markdown",
   "id": "thousand-medline",
   "metadata": {},
   "source": [
    "### Convert to Grayscale"
   ]
  },
  {
   "cell_type": "code",
   "execution_count": 3,
   "id": "varying-radiation",
   "metadata": {},
   "outputs": [],
   "source": [
    "img2gray = cv.cvtColor(image, cv.COLOR_BGR2GRAY)\n",
    "cv.imshow('Grayscale Image', img2gray)\n",
    "cv.imwrite('export/Grayscale.png', img2gray)\n",
    "cv.waitKey(0)\n",
    "cv.destroyAllWindows()"
   ]
  },
  {
   "cell_type": "markdown",
   "id": "freelance-semiconductor",
   "metadata": {},
   "source": [
    "### Remove Noise"
   ]
  },
  {
   "cell_type": "code",
   "execution_count": 4,
   "id": "protecting-opening",
   "metadata": {},
   "outputs": [],
   "source": [
    "imgRemoveNoise = cv.GaussianBlur(img2gray,(3,3),0)\n",
    "cv.imshow('Remove Noise with Gaussian Blur', imgRemoveNoise)\n",
    "cv.imwrite('export/RemoveNoise.png', imgRemoveNoise)\n",
    "cv.waitKey(0)\n",
    "cv.destroyAllWindows()"
   ]
  },
  {
   "cell_type": "markdown",
   "id": "announced-potato",
   "metadata": {},
   "source": [
    "### Create a Mask"
   ]
  },
  {
   "cell_type": "code",
   "execution_count": 9,
   "id": "corporate-halloween",
   "metadata": {},
   "outputs": [],
   "source": [
    "ret, mask = cv.threshold(imgRemoveNoise, 210, 255, cv.THRESH_BINARY_INV)\n",
    "cv.imshow('Mask', mask)\n",
    "cv.imwrite('export/Mask.png', mask)\n",
    "cv.waitKey(0)\n",
    "cv.destroyAllWindows()"
   ]
  },
  {
   "cell_type": "markdown",
   "id": "juvenile-lancaster",
   "metadata": {},
   "source": [
    "### Create an Inverse Mask"
   ]
  },
  {
   "cell_type": "code",
   "execution_count": 10,
   "id": "operational-spokesman",
   "metadata": {},
   "outputs": [],
   "source": [
    "mask_inv = cv.bitwise_not(mask)\n",
    "cv.imshow('Mask Inverse', mask_inv)\n",
    "cv.imwrite('export/MaskInverse.png', mask_inv)\n",
    "cv.waitKey(0)\n",
    "cv.destroyAllWindows()"
   ]
  },
  {
   "cell_type": "markdown",
   "id": "judicial-tongue",
   "metadata": {},
   "source": [
    "### Edge detection using sobel"
   ]
  },
  {
   "cell_type": "code",
   "execution_count": 11,
   "id": "cultural-duration",
   "metadata": {},
   "outputs": [],
   "source": [
    "edge_sobel = cv.Sobel(mask_inv, cv.CV_64F, 1, 0, ksize=3)\n",
    "cv.imshow('Edge Detection with Sobel', edge_sobel)\n",
    "cv.imwrite('export/EdgeSobel.png', edge_sobel)\n",
    "cv.waitKey(0)\n",
    "cv.destroyAllWindows()"
   ]
  },
  {
   "cell_type": "markdown",
   "id": "artistic-charles",
   "metadata": {},
   "source": [
    "### Edge detection using Laplacian"
   ]
  },
  {
   "cell_type": "code",
   "execution_count": null,
   "id": "amino-incidence",
   "metadata": {},
   "outputs": [],
   "source": [
    "edge_laplacian = cv.Laplacian(mask_inv, cv.CV_64F)\n",
    "cv.imshow('Edge Detection with Laplacian', edge_laplacian)\n",
    "cv.imwrite('export/EdgeLaplacian.png', edge_laplacian)\n",
    "cv.waitKey(0)\n",
    "cv.destroyAllWindows()"
   ]
  },
  {
   "cell_type": "markdown",
   "id": "empty-concert",
   "metadata": {},
   "source": [
    "### Dilation Image"
   ]
  },
  {
   "cell_type": "code",
   "execution_count": 53,
   "id": "turned-roommate",
   "metadata": {},
   "outputs": [],
   "source": [
    "kernel = np.ones((5,5), np.uint8)\n",
    "dilation = cv.dilate(edge_laplacian, kernel, iterations=1)\n",
    "cv.imshow('Dilation', dilation)\n",
    "cv.imwrite('export/Dilation.png', dilation)\n",
    "cv.waitKey(0)\n",
    "cv.destroyAllWindows()"
   ]
  }
 ],
 "metadata": {
  "kernelspec": {
   "display_name": "Python 3",
   "language": "python",
   "name": "python3"
  },
  "language_info": {
   "codemirror_mode": {
    "name": "ipython",
    "version": 3
   },
   "file_extension": ".py",
   "mimetype": "text/x-python",
   "name": "python",
   "nbconvert_exporter": "python",
   "pygments_lexer": "ipython3",
   "version": "3.8.8"
  }
 },
 "nbformat": 4,
 "nbformat_minor": 5
}

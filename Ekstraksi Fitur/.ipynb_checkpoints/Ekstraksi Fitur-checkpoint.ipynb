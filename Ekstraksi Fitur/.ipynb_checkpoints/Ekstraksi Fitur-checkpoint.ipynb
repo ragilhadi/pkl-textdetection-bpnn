{
 "cells": [
  {
   "cell_type": "markdown",
   "id": "local-riverside",
   "metadata": {},
   "source": [
    "# Fiture Extraction"
   ]
  },
  {
   "cell_type": "code",
   "execution_count": 5,
   "id": "ruled-montana",
   "metadata": {},
   "outputs": [],
   "source": [
    "import cv2 as cv"
   ]
  },
  {
   "cell_type": "markdown",
   "id": "written-study",
   "metadata": {},
   "source": [
    "### Open an Image"
   ]
  },
  {
   "cell_type": "code",
   "execution_count": 6,
   "id": "bored-craps",
   "metadata": {},
   "outputs": [],
   "source": [
    "image = cv.imread('himatekkom.jpg')\n",
    "cv.imshow('Himatekkom', image)\n",
    "cv.waitKey(0)\n",
    "cv.destroyAllWindows()"
   ]
  },
  {
   "cell_type": "markdown",
   "id": "killing-plumbing",
   "metadata": {},
   "source": [
    "### Convert to Grayscale"
   ]
  },
  {
   "cell_type": "code",
   "execution_count": 12,
   "id": "recent-edgar",
   "metadata": {},
   "outputs": [],
   "source": [
    "img2gray = cv.cvtColor(image, cv.COLOR_BGR2GRAY)\n",
    "cv.imshow('Gray', img2gray)\n",
    "cv.waitKey(0)\n",
    "cv.destroyAllWindows()"
   ]
  },
  {
   "cell_type": "code",
   "execution_count": 25,
   "id": "legendary-senior",
   "metadata": {},
   "outputs": [
    {
     "ename": "NameError",
     "evalue": "name 'gray' is not defined",
     "output_type": "error",
     "traceback": [
      "\u001b[1;31m---------------------------------------------------------------------------\u001b[0m",
      "\u001b[1;31mNameError\u001b[0m                                 Traceback (most recent call last)",
      "\u001b[1;32m<ipython-input-25-c3a8ed1ed597>\u001b[0m in \u001b[0;36m<module>\u001b[1;34m\u001b[0m\n\u001b[1;32m----> 1\u001b[1;33m \u001b[0mimgRemoveNoise\u001b[0m \u001b[1;33m=\u001b[0m \u001b[0mcv\u001b[0m\u001b[1;33m.\u001b[0m\u001b[0mGaussianBlur\u001b[0m\u001b[1;33m(\u001b[0m\u001b[0mgray\u001b[0m\u001b[1;33m,\u001b[0m\u001b[1;33m(\u001b[0m\u001b[1;36m3\u001b[0m\u001b[1;33m,\u001b[0m\u001b[1;36m3\u001b[0m\u001b[1;33m)\u001b[0m\u001b[1;33m,\u001b[0m\u001b[1;36m0\u001b[0m\u001b[1;33m)\u001b[0m\u001b[1;33m\u001b[0m\u001b[1;33m\u001b[0m\u001b[0m\n\u001b[0m\u001b[0;32m      2\u001b[0m \u001b[0mcv\u001b[0m\u001b[1;33m.\u001b[0m\u001b[0mimshow\u001b[0m\u001b[1;33m(\u001b[0m\u001b[1;34m'Gaussian Blur'\u001b[0m\u001b[1;33m,\u001b[0m \u001b[0mimgRemoveNoise\u001b[0m\u001b[1;33m)\u001b[0m\u001b[1;33m\u001b[0m\u001b[1;33m\u001b[0m\u001b[0m\n\u001b[0;32m      3\u001b[0m \u001b[0mcv\u001b[0m\u001b[1;33m.\u001b[0m\u001b[0mwaitKey\u001b[0m\u001b[1;33m(\u001b[0m\u001b[1;36m0\u001b[0m\u001b[1;33m)\u001b[0m\u001b[1;33m\u001b[0m\u001b[1;33m\u001b[0m\u001b[0m\n\u001b[0;32m      4\u001b[0m \u001b[0mcv\u001b[0m\u001b[1;33m.\u001b[0m\u001b[0mdestroyAllWindows\u001b[0m\u001b[1;33m(\u001b[0m\u001b[1;33m)\u001b[0m\u001b[1;33m\u001b[0m\u001b[1;33m\u001b[0m\u001b[0m\n",
      "\u001b[1;31mNameError\u001b[0m: name 'gray' is not defined"
     ]
    }
   ],
   "source": [
    "imgRemoveNoise = cv.GaussianBlursianBlursianBlur(img2gray,(3,3),0)\n",
    "cv.imshow('imgRemoveNoiseemoveNoiseemoveNoisesian Blur', imgRemoveNoise)\n",
    "cv.waitKey(0)\n",
    "cv.destroyAllWindows()"
   ]
  },
  {
   "cell_type": "markdown",
   "id": "appreciated-traffic",
   "metadata": {},
   "source": [
    "### Create a Mask"
   ]
  },
  {
   "cell_type": "code",
   "execution_count": 17,
   "id": "breathing-pillow",
   "metadata": {},
   "outputs": [],
   "source": [
    "ret, mask = cv.threshold(img2gray, 220, 255, cv.THRESH_BINARY_INV)\n",
    "cv.imshow('Gray', mask)\n",
    "cv.waitKey(0)\n",
    "cv.destroyAllWindows()"
   ]
  },
  {
   "cell_type": "markdown",
   "id": "nutritional-waters",
   "metadata": {},
   "source": [
    "### Create an Inverse Mask"
   ]
  },
  {
   "cell_type": "code",
   "execution_count": 18,
   "id": "adult-wireless",
   "metadata": {},
   "outputs": [],
   "source": [
    "mask_inv = cv.bitwise_not(mask)\n",
    "cv.imshow('Mask', mask_inv)\n",
    "cv.waitKey(0)\n",
    "cv.destroyAllWindows()"
   ]
  },
  {
   "cell_type": "markdown",
   "id": "colored-mattress",
   "metadata": {},
   "source": [
    "### Edge detection using sobel"
   ]
  },
  {
   "cell_type": "code",
   "execution_count": 24,
   "id": "indonesian-rebate",
   "metadata": {},
   "outputs": [],
   "source": [
    "edge_sobel = cv.Sobel(mask_inv, cv.CV_64F, 1, 0, ksize=3)\n",
    "cv.imshow('Edge Detection with Sobel', edge_sobel)\n",
    "cv.waitKey(0)\n",
    "cv.destroyAllWindows()"
   ]
  },
  {
   "cell_type": "code",
   "execution_count": null,
   "id": "artistic-pasta",
   "metadata": {},
   "outputs": [],
   "source": []
  }
 ],
 "metadata": {
  "kernelspec": {
   "display_name": "Python 3",
   "language": "python",
   "name": "python3"
  },
  "language_info": {
   "codemirror_mode": {
    "name": "ipython",
    "version": 3
   },
   "file_extension": ".py",
   "mimetype": "text/x-python",
   "name": "python",
   "nbconvert_exporter": "python",
   "pygments_lexer": "ipython3",
   "version": "3.8.8"
  }
 },
 "nbformat": 4,
 "nbformat_minor": 5
}
